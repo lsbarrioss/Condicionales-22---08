{
 "cells": [
  {
   "cell_type": "code",
   "execution_count": 9,
   "metadata": {},
   "outputs": [
    {
     "name": "stdout",
     "output_type": "stream",
     "text": [
      "hola, cata\n"
     ]
    }
   ],
   "source": [
    "nombre = input(\"Ingresar un nombre\")\n",
    "print(\"hola, \" + nombre)"
   ]
  },
  {
   "cell_type": "code",
   "execution_count": 10,
   "metadata": {},
   "outputs": [
    {
     "data": {
      "text/plain": [
       "'36'"
      ]
     },
     "execution_count": 10,
     "metadata": {},
     "output_type": "execute_result"
    }
   ],
   "source": [
    "input(\"ingresa un numero\")"
   ]
  },
  {
   "cell_type": "code",
   "execution_count": 19,
   "metadata": {},
   "outputs": [
    {
     "name": "stdout",
     "output_type": "stream",
     "text": [
      "8 Es par\n",
      "8 Es menor a 10\n"
     ]
    }
   ],
   "source": [
    "#Verificar si un número es par o impar\n",
    "x = int(input(\"Ingresar número\"))\n",
    "if not x%2:\n",
    "    print(x , \"Es par\")\n",
    "    if x>10:\n",
    "        print(x , \"es mayor a 10\")\n",
    "    else:\n",
    "        print(x , \"Es menor a 10\")\n",
    "else: \n",
    "    print(x , \"Es impar\")"
   ]
  },
  {
   "cell_type": "code",
   "execution_count": 25,
   "metadata": {},
   "outputs": [
    {
     "name": "stdout",
     "output_type": "stream",
     "text": [
      "65 Es impar\n",
      "65 es mayor a 10\n"
     ]
    }
   ],
   "source": [
    "#Verificar si un número es par o impar\n",
    "x = int(input(\"Ingresar número\"))\n",
    "\n",
    "if not x%2:\n",
    "    print(x , \"Es par\")\n",
    "else: \n",
    "    print(x , \"Es impar\")\n",
    "    \n",
    "if x>10:\n",
    "    print(x , \"es mayor a 10\")\n",
    "else:\n",
    "    print(x , \"Es menor a 10\")"
   ]
  },
  {
   "cell_type": "code",
   "execution_count": 20,
   "metadata": {},
   "outputs": [
    {
     "name": "stdout",
     "output_type": "stream",
     "text": [
      "4\n"
     ]
    }
   ],
   "source": [
    "x = 5\n",
    "x -=1 if x>0 else x\n",
    "print(x)"
   ]
  },
  {
   "cell_type": "code",
   "execution_count": 23,
   "metadata": {},
   "outputs": [
    {
     "name": "stdout",
     "output_type": "stream",
     "text": [
      "9\n"
     ]
    }
   ],
   "source": [
    "#Decrementa x en 1 unidad si es mayor que cero\n",
    "x = int(input(\"Ingresar número\"))\n",
    "x -=1 if x>0 else x\n",
    "print(x)"
   ]
  }
 ],
 "metadata": {
  "kernelspec": {
   "display_name": "Python 3",
   "language": "python",
   "name": "python3"
  },
  "language_info": {
   "codemirror_mode": {
    "name": "ipython",
    "version": 3
   },
   "file_extension": ".py",
   "mimetype": "text/x-python",
   "name": "python",
   "nbconvert_exporter": "python",
   "pygments_lexer": "ipython3",
   "version": "3.11.2"
  }
 },
 "nbformat": 4,
 "nbformat_minor": 2
}
